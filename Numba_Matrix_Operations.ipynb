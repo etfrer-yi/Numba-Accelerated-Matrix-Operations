{
  "nbformat": 4,
  "nbformat_minor": 0,
  "metadata": {
    "colab": {
      "provenance": [],
      "gpuType": "T4",
      "authorship_tag": "ABX9TyP8zT3joBTaj+kFWG1qd07b",
      "include_colab_link": true
    },
    "kernelspec": {
      "name": "python3",
      "display_name": "Python 3"
    },
    "language_info": {
      "name": "python"
    },
    "accelerator": "GPU"
  },
  "cells": [
    {
      "cell_type": "markdown",
      "metadata": {
        "id": "view-in-github",
        "colab_type": "text"
      },
      "source": [
        "<a href=\"https://colab.research.google.com/github/etfrer-yi/Numba-Accelerated-Matrix-Operations/blob/main/Numba_Matrix_Operations.ipynb\" target=\"_parent\"><img src=\"https://colab.research.google.com/assets/colab-badge.svg\" alt=\"Open In Colab\"/></a>"
      ]
    },
    {
      "cell_type": "code",
      "execution_count": null,
      "metadata": {
        "id": "v21ySWG8U4RA"
      },
      "outputs": [],
      "source": [
        "from numba import cuda\n",
        "import numpy as np"
      ]
    },
    {
      "cell_type": "code",
      "source": [
        "def gpu_matrix_wrapper(A, B, fn):\n",
        "  size = A.shape[0]\n",
        "  A_device = cuda.to_device(A)\n",
        "  B_device = cuda.to_device(B)\n",
        "  C_device = cuda.device_array((size, size))\n",
        "\n",
        "  blocks_per_grid, threads_per_block = size, size\n",
        "  fn[blocks_per_grid, threads_per_block](A_device, B_device, C_device)\n",
        "  cuda.synchronize()\n",
        "  return C_device.copy_to_host()"
      ],
      "metadata": {
        "id": "ijL8PGcFVEHD"
      },
      "execution_count": null,
      "outputs": []
    },
    {
      "cell_type": "code",
      "source": [
        "@cuda.jit\n",
        "def gpu_matrix_thread_add(A_device, B_device, C_device):\n",
        "  x, y = cuda.grid(2)\n",
        "  C_device[y][x] = A_device[y][x] + B_device[y][x]\n",
        "\n",
        "@cuda.jit\n",
        "def gpu_matrix_thread_sub(A_device, B_device, C_device):\n",
        "  x, y = cuda.grid(2)\n",
        "  C_device[y][x] = A_device[y][x] - B_device[y][x]\n",
        "\n",
        "def gpu_matrix_add(A, B):\n",
        "  return gpu_matrix_wrapper(A, B, gpu_matrix_thread_add)\n",
        "\n",
        "def gpu_matrix_sub(A, B):\n",
        "  return gpu_matrix_wrapper(A, B, gpu_matrix_thread_sub)"
      ],
      "metadata": {
        "id": "XKcbK9bCVENS"
      },
      "execution_count": null,
      "outputs": []
    },
    {
      "cell_type": "code",
      "source": [
        "A = np.random.randint(0, 5, size=(1024, 1024))\n",
        "B = np.random.randint(0, 5, size=(1024, 1024))"
      ],
      "metadata": {
        "id": "LkDqCr1eVEWV"
      },
      "execution_count": null,
      "outputs": []
    },
    {
      "cell_type": "code",
      "source": [
        "%timeit A + B\n",
        "%timeit A - B"
      ],
      "metadata": {
        "colab": {
          "base_uri": "https://localhost:8080/"
        },
        "id": "aXvARs4_rVi1",
        "outputId": "101beeef-558c-4ce4-d43e-c074c49fc71f"
      },
      "execution_count": null,
      "outputs": [
        {
          "output_type": "stream",
          "name": "stdout",
          "text": [
            "1.06 ms ± 30.3 µs per loop (mean ± std. dev. of 7 runs, 1000 loops each)\n",
            "964 µs ± 16.7 µs per loop (mean ± std. dev. of 7 runs, 1000 loops each)\n"
          ]
        }
      ]
    },
    {
      "cell_type": "code",
      "source": [
        "%timeit gpu_matrix_add(A, B)\n",
        "%timeit gpu_matrix_sub(A, B)"
      ],
      "metadata": {
        "colab": {
          "base_uri": "https://localhost:8080/"
        },
        "id": "Kst0mArtrWJZ",
        "outputId": "8a8e9d5f-3cf6-4f04-bed4-e80c254458cd"
      },
      "execution_count": null,
      "outputs": [
        {
          "output_type": "stream",
          "name": "stdout",
          "text": [
            "8 ms ± 367 µs per loop (mean ± std. dev. of 7 runs, 100 loops each)\n",
            "7.33 ms ± 58.1 µs per loop (mean ± std. dev. of 7 runs, 100 loops each)\n"
          ]
        }
      ]
    }
  ]
}